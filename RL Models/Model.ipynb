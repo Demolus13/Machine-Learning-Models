{
 "cells": [
  {
   "cell_type": "markdown",
   "metadata": {},
   "source": [
    "## Reinforecement Learning Models"
   ]
  },
  {
   "cell_type": "markdown",
   "metadata": {},
   "source": [
    "### Imports and Utils"
   ]
  },
  {
   "cell_type": "code",
   "execution_count": 35,
   "metadata": {},
   "outputs": [],
   "source": [
    "\"\"\"\n",
    "Importing necessary libraries\n",
    "\"\"\"\n",
    "import pygame\n",
    "import neat\n",
    "import time\n",
    "import os\n",
    "import random"
   ]
  },
  {
   "cell_type": "code",
   "execution_count": 43,
   "metadata": {},
   "outputs": [],
   "source": [
    "\"\"\"\n",
    "Defining Utilities for the Game\n",
    "\"\"\"\n",
    "scale = 1.5\n",
    "WIN_WIDTH = 288 * scale\n",
    "WIN_HEIGHT = 512 * scale\n",
    "\n",
    "def Load_Images(path, scale = 1):\n",
    "    img = pygame.image.load(path)\n",
    "    return pygame.transform.scale(img, (int(img.get_width() * scale), int(img.get_height() * scale)))\n",
    "\n",
    "BIRD_IMGS = [Load_Images(os.path.join(\"Images\", \"bird1.png\"), scale), Load_Images(os.path.join(\"Images\", \"bird2.png\"), scale), Load_Images(os.path.join(\"Images\", \"bird3.png\"), scale)]\n",
    "PIPE_IMG = Load_Images(os.path.join(\"Images\", \"pipe.png\"), scale)\n",
    "BASE_IMG = Load_Images(os.path.join(\"Images\", \"base.png\"), scale)\n",
    "BG_IMG = Load_Images(os.path.join(\"Images\", \"bg.png\"), scale)"
   ]
  },
  {
   "cell_type": "code",
   "execution_count": 57,
   "metadata": {},
   "outputs": [],
   "source": [
    "\"\"\"\n",
    "Defining Bird Class\n",
    "\"\"\"\n",
    "class Bird:\n",
    "    IMGS = BIRD_IMGS\n",
    "    MAX_ROTATION = 25\n",
    "    ROT_VEL = 20\n",
    "    ANIMATION_TIME = 5\n",
    "\n",
    "    def __init__(self, x, y):\n",
    "        self.x = x\n",
    "        self.y = y\n",
    "        self.tilt = 0\n",
    "        self.vel = 0\n",
    "        self.cnt = 0\n",
    "        self.img = self.IMGS[0]\n",
    "\n",
    "    def jump(self):\n",
    "        self.vel = -10.5\n",
    "        self.height = self.y\n",
    "\n",
    "    def move(self):\n",
    "        s = min(16, self.vel + 1.5)\n",
    "        self.vel = min(16, self.vel + 3)\n",
    "\n",
    "        self.y = self.y + s\n",
    "        if s < 0:\n",
    "            if self.tilt < self.MAX_ROTATION:\n",
    "                self.tilt += self.ROT_VEL\n",
    "        else:\n",
    "            if self.tilt > -90:\n",
    "                self.tilt -= self.ROT_VEL\n",
    "    \n",
    "    def draw(self, window):\n",
    "        self.cnt += 1\n",
    "\n",
    "        if self.cnt < self.ANIMATION_TIME:\n",
    "            self.img = self.IMGS[0]\n",
    "        elif self.cnt < self.ANIMATION_TIME*2:\n",
    "            self.img = self.IMGS[1]\n",
    "        elif self.cnt < self.ANIMATION_TIME*3:\n",
    "            self.img = self.IMGS[2]\n",
    "        elif self.cnt < self.ANIMATION_TIME*4:\n",
    "            self.img = self.IMGS[1]\n",
    "        elif self.cnt == self.ANIMATION_TIME*4 + 1:\n",
    "            self.img = self.IMGS[0]\n",
    "            self.cnt = 0\n",
    "\n",
    "        if self.tilt <= -80:\n",
    "            self.img = self.IMGS[1]\n",
    "            self.cnt = self.ANIMATION_TIME*2\n",
    "\n",
    "        rotated_image = pygame.transform.rotate(self.img, self.tilt)\n",
    "        new_rect = rotated_image.get_rect(center=self.img.get_rect(topleft=(self.x, self.y)).center)\n",
    "        window.blit(rotated_image, new_rect.topleft)\n",
    "\n",
    "    def get_mask(self):\n",
    "        return pygame.mask.from_surface(self.img)"
   ]
  },
  {
   "cell_type": "code",
   "execution_count": null,
   "metadata": {},
   "outputs": [],
   "source": [
    "\"\"\"\n",
    "Defining Pipe Class\n",
    "\"\"\"\n",
    "\n",
    "class Pipe:\n",
    "    GAP = 200\n",
    "    VEL = 5\n",
    "\n",
    "    def __init__(self, x):\n",
    "        self.x = x\n",
    "        self.height = 0\n",
    "        self.top = 0\n",
    "        self.bottom = 0\n",
    "        self.PIPE_TOP = pygame.transform.flip(PIPE_IMG, False, True)\n",
    "        self.PIPE_BOTTOM = PIPE_IMG\n",
    "        self.passed = False\n",
    "        self.set_height()\n",
    "\n",
    "    def set_height(self):\n",
    "        self.height = random.randrange(50, 450)\n",
    "        self.top = self.height - self.PIPE_TOP.get_height()\n",
    "        self.bottom = self.height + self.GAP\n",
    "\n",
    "    def move(self):\n",
    "        self.x -= self.VEL\n",
    "\n",
    "    def draw(self, window):\n",
    "        window.blit(self.PIPE_TOP, (self.x, self.top))\n",
    "        window.blit(self.PIPE_BOTTOM, (self.x, self.bottom))\n",
    "\n",
    "    def collide(self, bird):\n",
    "        bird_mask = bird.get_mask()\n",
    "        top_mask = pygame.mask.from_surface(self.PIPE_TOP)\n",
    "        bottom_mask = pygame.mask.from_surface(self.PIPE_BOTTOM)\n",
    "\n",
    "        top_offset = (self.x - bird.x, self.top - round(bird.y))\n",
    "        bottom_offset = (self.x - bird.x, self.bottom - round(bird.y))\n",
    "\n",
    "        b_point = bird_mask.overlap(bottom_mask, bottom_offset)\n",
    "        t_point = bird_mask.overlap(top_mask, top_offset)\n",
    "\n",
    "        if b_point or t_point:\n",
    "            return True\n",
    "        return False"
   ]
  },
  {
   "cell_type": "code",
   "execution_count": 53,
   "metadata": {},
   "outputs": [],
   "source": [
    "\"\"\"\n",
    "Game Structure and Functionality\n",
    "\"\"\"\n",
    "\n",
    "class Game:\n",
    "    def __init__(self, bird, window):\n",
    "        self.window = window\n",
    "        self.bird = bird\n",
    "        self.clock = pygame.time.Clock()\n",
    "        self.running = True\n",
    "\n",
    "    def display(self):\n",
    "        while self.running:\n",
    "            self.clock.tick(10)\n",
    "            for event in pygame.event.get():\n",
    "                if event.type == pygame.QUIT:\n",
    "                    self.running = False\n",
    "\n",
    "            self.bird.move()\n",
    "            self.screen(self.window, self.bird)\n",
    "\n",
    "        pygame.quit()\n",
    "\n",
    "    def screen(self, window, bird):\n",
    "        window.blit(BG_IMG, (0, 0))\n",
    "        bird.draw(window)\n",
    "        pygame.display.update()"
   ]
  },
  {
   "cell_type": "markdown",
   "metadata": {},
   "source": [
    "### Defining Game Structure"
   ]
  },
  {
   "cell_type": "code",
   "execution_count": 58,
   "metadata": {},
   "outputs": [],
   "source": [
    "bird = Bird(150, 300)\n",
    "window = pygame.display.set_mode((WIN_WIDTH, WIN_HEIGHT))\n",
    "\n",
    "game = Game(bird, window)\n",
    "game.display()"
   ]
  },
  {
   "cell_type": "markdown",
   "metadata": {},
   "source": [
    "### Model Creation and Training"
   ]
  },
  {
   "cell_type": "code",
   "execution_count": null,
   "metadata": {},
   "outputs": [],
   "source": []
  },
  {
   "cell_type": "markdown",
   "metadata": {},
   "source": [
    "### Testing and Plotting"
   ]
  },
  {
   "cell_type": "code",
   "execution_count": null,
   "metadata": {},
   "outputs": [],
   "source": []
  },
  {
   "cell_type": "markdown",
   "metadata": {},
   "source": [
    "## Convolutional Neural Network Models"
   ]
  },
  {
   "cell_type": "markdown",
   "metadata": {},
   "source": [
    "### Imports and Utils"
   ]
  },
  {
   "cell_type": "code",
   "execution_count": null,
   "metadata": {},
   "outputs": [],
   "source": []
  },
  {
   "cell_type": "markdown",
   "metadata": {},
   "source": [
    "### Dataset Loading and Preprocessing"
   ]
  },
  {
   "cell_type": "code",
   "execution_count": null,
   "metadata": {},
   "outputs": [],
   "source": []
  },
  {
   "cell_type": "markdown",
   "metadata": {},
   "source": [
    "### Model Creation and Training"
   ]
  },
  {
   "cell_type": "code",
   "execution_count": null,
   "metadata": {},
   "outputs": [],
   "source": []
  },
  {
   "cell_type": "markdown",
   "metadata": {},
   "source": [
    "### Testing and Plotting"
   ]
  },
  {
   "cell_type": "code",
   "execution_count": null,
   "metadata": {},
   "outputs": [],
   "source": []
  }
 ],
 "metadata": {
  "kernelspec": {
   "display_name": "Python 3",
   "language": "python",
   "name": "python3"
  },
  "language_info": {
   "codemirror_mode": {
    "name": "ipython",
    "version": 3
   },
   "file_extension": ".py",
   "mimetype": "text/x-python",
   "name": "python",
   "nbconvert_exporter": "python",
   "pygments_lexer": "ipython3",
   "version": "3.11.3"
  }
 },
 "nbformat": 4,
 "nbformat_minor": 2
}
